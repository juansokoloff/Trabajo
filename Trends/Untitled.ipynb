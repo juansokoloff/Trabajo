{
 "cells": [
  {
   "cell_type": "code",
   "execution_count": 2,
   "metadata": {},
   "outputs": [
    {
     "name": "stdout",
     "output_type": "stream",
     "text": [
      "Populating the interactive namespace from numpy and matplotlib\n"
     ]
    }
   ],
   "source": [
    "import pandas as pd\n",
    "import numpy as np\n",
    "import pylab as pl\n",
    "\n",
    "%pylab inline"
   ]
  },
  {
   "cell_type": "code",
   "execution_count": 4,
   "metadata": {},
   "outputs": [],
   "source": [
    "df = pd.read_csv(\"Elecciones_Enero.csv\")"
   ]
  },
  {
   "cell_type": "code",
   "execution_count": 5,
   "metadata": {},
   "outputs": [
    {
     "data": {
      "text/html": [
       "<div>\n",
       "<table border=\"1\" class=\"dataframe\">\n",
       "  <thead>\n",
       "    <tr style=\"text-align: right;\">\n",
       "      <th></th>\n",
       "      <th>Dia</th>\n",
       "      <th>Duque</th>\n",
       "      <th>Vargas</th>\n",
       "      <th>Petro</th>\n",
       "      <th>Fajardo</th>\n",
       "      <th>Lopez</th>\n",
       "      <th>MLR</th>\n",
       "      <th>HDLC</th>\n",
       "      <th>Ordonez</th>\n",
       "      <th>Pinzon</th>\n",
       "    </tr>\n",
       "  </thead>\n",
       "  <tbody>\n",
       "    <tr>\n",
       "      <th>0</th>\n",
       "      <td>1/1/18</td>\n",
       "      <td>32</td>\n",
       "      <td>5</td>\n",
       "      <td>16</td>\n",
       "      <td>0</td>\n",
       "      <td>0</td>\n",
       "      <td>5</td>\n",
       "      <td>0</td>\n",
       "      <td>0</td>\n",
       "      <td>0</td>\n",
       "    </tr>\n",
       "    <tr>\n",
       "      <th>1</th>\n",
       "      <td>1/2/18</td>\n",
       "      <td>13</td>\n",
       "      <td>17</td>\n",
       "      <td>20</td>\n",
       "      <td>13</td>\n",
       "      <td>0</td>\n",
       "      <td>0</td>\n",
       "      <td>3</td>\n",
       "      <td>3</td>\n",
       "      <td>0</td>\n",
       "    </tr>\n",
       "    <tr>\n",
       "      <th>2</th>\n",
       "      <td>1/3/18</td>\n",
       "      <td>18</td>\n",
       "      <td>0</td>\n",
       "      <td>33</td>\n",
       "      <td>12</td>\n",
       "      <td>0</td>\n",
       "      <td>0</td>\n",
       "      <td>0</td>\n",
       "      <td>3</td>\n",
       "      <td>0</td>\n",
       "    </tr>\n",
       "    <tr>\n",
       "      <th>3</th>\n",
       "      <td>1/4/18</td>\n",
       "      <td>6</td>\n",
       "      <td>3</td>\n",
       "      <td>41</td>\n",
       "      <td>15</td>\n",
       "      <td>0</td>\n",
       "      <td>6</td>\n",
       "      <td>3</td>\n",
       "      <td>0</td>\n",
       "      <td>3</td>\n",
       "    </tr>\n",
       "    <tr>\n",
       "      <th>4</th>\n",
       "      <td>1/5/18</td>\n",
       "      <td>21</td>\n",
       "      <td>21</td>\n",
       "      <td>30</td>\n",
       "      <td>15</td>\n",
       "      <td>9</td>\n",
       "      <td>3</td>\n",
       "      <td>9</td>\n",
       "      <td>3</td>\n",
       "      <td>0</td>\n",
       "    </tr>\n",
       "  </tbody>\n",
       "</table>\n",
       "</div>"
      ],
      "text/plain": [
       "      Dia  Duque  Vargas  Petro  Fajardo  Lopez  MLR  HDLC  Ordonez  Pinzon\n",
       "0  1/1/18     32       5     16        0      0    5     0        0       0\n",
       "1  1/2/18     13      17     20       13      0    0     3        3       0\n",
       "2  1/3/18     18       0     33       12      0    0     0        3       0\n",
       "3  1/4/18      6       3     41       15      0    6     3        0       3\n",
       "4  1/5/18     21      21     30       15      9    3     9        3       0"
      ]
     },
     "execution_count": 5,
     "metadata": {},
     "output_type": "execute_result"
    }
   ],
   "source": [
    "df.head()"
   ]
  },
  {
   "cell_type": "code",
   "execution_count": 7,
   "metadata": {},
   "outputs": [],
   "source": [
    "data = df[[\"Duque\", \"Vargas\", \"Petro\", \"Fajardo\", \"Lopez\", \"MLR\", \"HDLC\", \"Ordonez\", \"Pinzon\"]]"
   ]
  },
  {
   "cell_type": "code",
   "execution_count": null,
   "metadata": {},
   "outputs": [],
   "source": [
    "pl.figure(figsize=(16,5))\n",
    "pl.plot(data.Duque, label = \"Ivan Duque\")\n",
    "pl.plot(data.Vargas, label = \"Vargas Lleras\")\n",
    "pl.plot(data.Petro, label = \"Gustavo Petro\")\n",
    "pl.plot(data.Fajardo, label = \"Sergio Fajardo\")\n",
    "pl.plot(data.Lopez, label = \"Clara Lopez\")\n",
    "pl.plot(data.MLR, label = \"Martha Lucía Ramirez\")\n",
    "pl.plot(data.HDLC, label = \"Humberto de La Calle\")\n",
    "pl.plot(data.Ordonez, label = \"Alejandro Ordoñez\")\n",
    "pl.plot(data.Pinzon, label = \"El que es\")\n",
    "pl.legend()"
   ]
  },
  {
   "cell_type": "code",
   "execution_count": 19,
   "metadata": {},
   "outputs": [
    {
     "data": {
      "text/plain": [
       "<matplotlib.legend.Legend at 0x7fc81dc7dcd0>"
      ]
     },
     "execution_count": 19,
     "metadata": {},
     "output_type": "execute_result"
    },
    {
     "data": {
      "image/png": "[encoded data removed]",
      "text/plain": [
       "<matplotlib.figure.Figure at 0x7fc872cb9450>"
      ]
     },
     "metadata": {},
     "output_type": "display_data"
    }
   ],
   "source": [
    "pl.figure(figsize=(16,5))\n",
    "pl.plot(data.Duque, label = \"Ivan Duque\")\n",
    "pl.plot(data.Vargas, label = \"Vargas Lleras\")\n",
    "pl.plot(data.Petro, label = \"Gustavo Petro\")\n",
    "pl.plot(data.Fajardo, label = \"Sergio Fajardo\")\n",
    "pl.plot(data.Lopez, label = \"Clara Lopez\")\n",
    "pl.plot(data.MLR, label = \"Martha Lucia Ramirez\")\n",
    "pl.plot(data.HDLC, label = \"Humberto de La Calle\")\n",
    "pl.plot(data.Ordonez, label = \"Alejandro Ordonez\")\n",
    "pl.plot(data.Pinzon, label = \"El que es\")\n",
    "\n",
    "plt.xlabel(\"Dia del mes (Enero)\", fontsize=12)\n",
    "plt.ylabel(\"numero de busquedas relativo al maximo\", fontsize=12)\n",
    "plt.title(\"Busquedas en google por candidato\", weight='bold', fontsize=14)\n",
    "pl.legend()"
   ]
  },
  {
   "cell_type": "code",
   "execution_count": 20,
   "metadata": {},
   "outputs": [
    {
     "name": "stderr",
     "output_type": "stream",
     "text": [
      "/opt/rh/anaconda/root/envs/PUI2016_Python2/lib/python2.7/site-packages/ipykernel/__main__.py:1: FutureWarning: pd.rolling_mean is deprecated for Series and will be removed in a future version, replace with \n",
      "\tSeries.rolling(window=3,center=False).mean()\n",
      "  if __name__ == '__main__':\n",
      "/opt/rh/anaconda/root/envs/PUI2016_Python2/lib/python2.7/site-packages/ipykernel/__main__.py:2: FutureWarning: pd.rolling_mean is deprecated for Series and will be removed in a future version, replace with \n",
      "\tSeries.rolling(window=3,center=False).mean()\n",
      "  from ipykernel import kernelapp as app\n",
      "/opt/rh/anaconda/root/envs/PUI2016_Python2/lib/python2.7/site-packages/ipykernel/__main__.py:3: FutureWarning: pd.rolling_mean is deprecated for Series and will be removed in a future version, replace with \n",
      "\tSeries.rolling(window=3,center=False).mean()\n",
      "  app.launch_new_instance()\n",
      "/opt/rh/anaconda/root/envs/PUI2016_Python2/lib/python2.7/site-packages/ipykernel/__main__.py:4: FutureWarning: pd.rolling_mean is deprecated for Series and will be removed in a future version, replace with \n",
      "\tSeries.rolling(window=3,center=False).mean()\n",
      "/opt/rh/anaconda/root/envs/PUI2016_Python2/lib/python2.7/site-packages/ipykernel/__main__.py:5: FutureWarning: pd.rolling_mean is deprecated for Series and will be removed in a future version, replace with \n",
      "\tSeries.rolling(window=3,center=False).mean()\n",
      "/opt/rh/anaconda/root/envs/PUI2016_Python2/lib/python2.7/site-packages/ipykernel/__main__.py:6: FutureWarning: pd.rolling_mean is deprecated for Series and will be removed in a future version, replace with \n",
      "\tSeries.rolling(window=3,center=False).mean()\n",
      "/opt/rh/anaconda/root/envs/PUI2016_Python2/lib/python2.7/site-packages/ipykernel/__main__.py:7: FutureWarning: pd.rolling_mean is deprecated for Series and will be removed in a future version, replace with \n",
      "\tSeries.rolling(window=3,center=False).mean()\n",
      "/opt/rh/anaconda/root/envs/PUI2016_Python2/lib/python2.7/site-packages/ipykernel/__main__.py:8: FutureWarning: pd.rolling_mean is deprecated for Series and will be removed in a future version, replace with \n",
      "\tSeries.rolling(window=3,center=False).mean()\n",
      "/opt/rh/anaconda/root/envs/PUI2016_Python2/lib/python2.7/site-packages/ipykernel/__main__.py:9: FutureWarning: pd.rolling_mean is deprecated for Series and will be removed in a future version, replace with \n",
      "\tSeries.rolling(window=3,center=False).mean()\n"
     ]
    }
   ],
   "source": [
    "MediaDuque = pd.rolling_mean(data.Duque, 3)\n",
    "MediaVargas  = pd.rolling_mean(data.Vargas, 3)\n",
    "MediaPetro = pd.rolling_mean(data.Petro, 3)\n",
    "MediaFajardo = pd.rolling_mean(data.Fajardo, 3)\n",
    "MediaLopez  = pd.rolling_mean(data.Lopez, 3)\n",
    "MediaMLR = pd.rolling_mean(data.MLR, 3)\n",
    "MediaHDLC  = pd.rolling_mean(data.HDLC, 3)\n",
    "MediaOrdonez  = pd.rolling_mean(data.Ordonez, 3)\n",
    "MediaPinzon  = pd.rolling_mean(data.Pinzon, 3)"
   ]
  },
  {
   "cell_type": "code",
   "execution_count": 21,
   "metadata": {},
   "outputs": [
    {
     "data": {
      "text/plain": [
       "<matplotlib.legend.Legend at 0x7fc81c25eb10>"
      ]
     },
     "execution_count": 21,
     "metadata": {},
     "output_type": "execute_result"
    },
    {
     "data": {
      "image/png": "[encoded data removed]",
      "text/plain": [
       "<matplotlib.figure.Figure at 0x7fc872e09fd0>"
      ]
     },
     "metadata": {},
     "output_type": "display_data"
    }
   ],
   "source": [
    "pl.figure(figsize=(16,5))\n",
    "pl.plot(MediaDuque, label = \"Ivan Duque\")\n",
    "pl.plot(MediaVargas, label = \"Vargas Lleras\")\n",
    "pl.plot(MediaPetro, label = \"Gustavo Petro\")\n",
    "pl.plot(MediaFajardo, label = \"Sergio Fajardo\")\n",
    "pl.plot(MediaLopez, label = \"Clara Lopez\")\n",
    "pl.plot(MediaMLR, label = \"Martha Lucia Ramirez\")\n",
    "pl.plot(MediaHDLC, label = \"Humberto de La Calle\")\n",
    "pl.plot(MediaOrdonez, label = \"Alejandro Ordonez\")\n",
    "pl.plot(MediaPinzon, label = \"El que es\")\n",
    "\n",
    "plt.xlabel(\"Dia del mes (Enero)\", fontsize=12)\n",
    "plt.ylabel(\"numero de busquedas relativo al maximo\", fontsize=12)\n",
    "plt.title(\"Busquedas en google por candidato Rolling Mean\", weight='bold', fontsize=14)\n",
    "pl.legend()"
   ]
  },
  {
   "cell_type": "code",
   "execution_count": 22,
   "metadata": {},
   "outputs": [
    {
     "data": {
      "text/html": [
       "<div>\n",
       "<table border=\"1\" class=\"dataframe\">\n",
       "  <thead>\n",
       "    <tr style=\"text-align: right;\">\n",
       "      <th></th>\n",
       "      <th>Duque</th>\n",
       "      <th>Vargas</th>\n",
       "      <th>Petro</th>\n",
       "      <th>Fajardo</th>\n",
       "      <th>Lopez</th>\n",
       "      <th>MLR</th>\n",
       "      <th>HDLC</th>\n",
       "      <th>Ordonez</th>\n",
       "      <th>Pinzon</th>\n",
       "    </tr>\n",
       "  </thead>\n",
       "  <tbody>\n",
       "    <tr>\n",
       "      <th>count</th>\n",
       "      <td>28.000000</td>\n",
       "      <td>28.000000</td>\n",
       "      <td>28.000000</td>\n",
       "      <td>28.000000</td>\n",
       "      <td>28.000000</td>\n",
       "      <td>28.000000</td>\n",
       "      <td>28.000000</td>\n",
       "      <td>28.000000</td>\n",
       "      <td>28.000000</td>\n",
       "    </tr>\n",
       "    <tr>\n",
       "      <th>mean</th>\n",
       "      <td>24.428571</td>\n",
       "      <td>18.892857</td>\n",
       "      <td>39.428571</td>\n",
       "      <td>18.785714</td>\n",
       "      <td>11.000000</td>\n",
       "      <td>10.214286</td>\n",
       "      <td>6.357143</td>\n",
       "      <td>5.321429</td>\n",
       "      <td>1.928571</td>\n",
       "    </tr>\n",
       "    <tr>\n",
       "      <th>std</th>\n",
       "      <td>12.916910</td>\n",
       "      <td>10.192006</td>\n",
       "      <td>19.911710</td>\n",
       "      <td>10.357882</td>\n",
       "      <td>17.051121</td>\n",
       "      <td>8.765915</td>\n",
       "      <td>4.839760</td>\n",
       "      <td>3.859126</td>\n",
       "      <td>2.522911</td>\n",
       "    </tr>\n",
       "    <tr>\n",
       "      <th>min</th>\n",
       "      <td>3.000000</td>\n",
       "      <td>0.000000</td>\n",
       "      <td>16.000000</td>\n",
       "      <td>0.000000</td>\n",
       "      <td>0.000000</td>\n",
       "      <td>0.000000</td>\n",
       "      <td>0.000000</td>\n",
       "      <td>0.000000</td>\n",
       "      <td>0.000000</td>\n",
       "    </tr>\n",
       "    <tr>\n",
       "      <th>25%</th>\n",
       "      <td>17.500000</td>\n",
       "      <td>13.500000</td>\n",
       "      <td>25.750000</td>\n",
       "      <td>12.000000</td>\n",
       "      <td>2.250000</td>\n",
       "      <td>3.750000</td>\n",
       "      <td>3.000000</td>\n",
       "      <td>3.000000</td>\n",
       "      <td>0.000000</td>\n",
       "    </tr>\n",
       "    <tr>\n",
       "      <th>50%</th>\n",
       "      <td>23.000000</td>\n",
       "      <td>20.000000</td>\n",
       "      <td>35.000000</td>\n",
       "      <td>18.000000</td>\n",
       "      <td>7.000000</td>\n",
       "      <td>7.000000</td>\n",
       "      <td>5.000000</td>\n",
       "      <td>5.000000</td>\n",
       "      <td>0.000000</td>\n",
       "    </tr>\n",
       "    <tr>\n",
       "      <th>75%</th>\n",
       "      <td>32.250000</td>\n",
       "      <td>27.250000</td>\n",
       "      <td>45.250000</td>\n",
       "      <td>24.250000</td>\n",
       "      <td>13.250000</td>\n",
       "      <td>18.000000</td>\n",
       "      <td>8.250000</td>\n",
       "      <td>7.250000</td>\n",
       "      <td>3.000000</td>\n",
       "    </tr>\n",
       "    <tr>\n",
       "      <th>max</th>\n",
       "      <td>64.000000</td>\n",
       "      <td>36.000000</td>\n",
       "      <td>100.000000</td>\n",
       "      <td>41.000000</td>\n",
       "      <td>87.000000</td>\n",
       "      <td>28.000000</td>\n",
       "      <td>19.000000</td>\n",
       "      <td>15.000000</td>\n",
       "      <td>7.000000</td>\n",
       "    </tr>\n",
       "  </tbody>\n",
       "</table>\n",
       "</div>"
      ],
      "text/plain": [
       "           Duque     Vargas       Petro    Fajardo      Lopez        MLR  \\\n",
       "count  28.000000  28.000000   28.000000  28.000000  28.000000  28.000000   \n",
       "mean   24.428571  18.892857   39.428571  18.785714  11.000000  10.214286   \n",
       "std    12.916910  10.192006   19.911710  10.357882  17.051121   8.765915   \n",
       "min     3.000000   0.000000   16.000000   0.000000   0.000000   0.000000   \n",
       "25%    17.500000  13.500000   25.750000  12.000000   2.250000   3.750000   \n",
       "50%    23.000000  20.000000   35.000000  18.000000   7.000000   7.000000   \n",
       "75%    32.250000  27.250000   45.250000  24.250000  13.250000  18.000000   \n",
       "max    64.000000  36.000000  100.000000  41.000000  87.000000  28.000000   \n",
       "\n",
       "            HDLC    Ordonez     Pinzon  \n",
       "count  28.000000  28.000000  28.000000  \n",
       "mean    6.357143   5.321429   1.928571  \n",
       "std     4.839760   3.859126   2.522911  \n",
       "min     0.000000   0.000000   0.000000  \n",
       "25%     3.000000   3.000000   0.000000  \n",
       "50%     5.000000   5.000000   0.000000  \n",
       "75%     8.250000   7.250000   3.000000  \n",
       "max    19.000000  15.000000   7.000000  "
      ]
     },
     "execution_count": 22,
     "metadata": {},
     "output_type": "execute_result"
    }
   ],
   "source": [
    "data.describe()"
   ]
  },
  {
   "cell_type": "code",
   "execution_count": 61,
   "metadata": {},
   "outputs": [],
   "source": [
    "a = (data.mean())"
   ]
  },
  {
   "cell_type": "code",
   "execution_count": 62,
   "metadata": {},
   "outputs": [
    {
     "data": {
      "text/plain": [
       "15.150793650793648"
      ]
     },
     "execution_count": 62,
     "metadata": {},
     "output_type": "execute_result"
    }
   ],
   "source": [
    "a.mean()"
   ]
  },
  {
   "cell_type": "code",
   "execution_count": 63,
   "metadata": {},
   "outputs": [
    {
     "data": {
      "text/plain": [
       "11.689062262957691"
      ]
     },
     "execution_count": 63,
     "metadata": {},
     "output_type": "execute_result"
    }
   ],
   "source": [
    "a.std()"
   ]
  },
  {
   "cell_type": "code",
   "execution_count": 43,
   "metadata": {},
   "outputs": [],
   "source": [
    "semana1 = data[0:7]"
   ]
  },
  {
   "cell_type": "code",
   "execution_count": 44,
   "metadata": {},
   "outputs": [
    {
     "data": {
      "text/html": [
       "<div>\n",
       "<table border=\"1\" class=\"dataframe\">\n",
       "  <thead>\n",
       "    <tr style=\"text-align: right;\">\n",
       "      <th></th>\n",
       "      <th>Duque</th>\n",
       "      <th>Vargas</th>\n",
       "      <th>Petro</th>\n",
       "      <th>Fajardo</th>\n",
       "      <th>Lopez</th>\n",
       "      <th>MLR</th>\n",
       "      <th>HDLC</th>\n",
       "      <th>Ordonez</th>\n",
       "      <th>Pinzon</th>\n",
       "    </tr>\n",
       "  </thead>\n",
       "  <tbody>\n",
       "    <tr>\n",
       "      <th>0</th>\n",
       "      <td>32</td>\n",
       "      <td>5</td>\n",
       "      <td>16</td>\n",
       "      <td>0</td>\n",
       "      <td>0</td>\n",
       "      <td>5</td>\n",
       "      <td>0</td>\n",
       "      <td>0</td>\n",
       "      <td>0</td>\n",
       "    </tr>\n",
       "    <tr>\n",
       "      <th>1</th>\n",
       "      <td>13</td>\n",
       "      <td>17</td>\n",
       "      <td>20</td>\n",
       "      <td>13</td>\n",
       "      <td>0</td>\n",
       "      <td>0</td>\n",
       "      <td>3</td>\n",
       "      <td>3</td>\n",
       "      <td>0</td>\n",
       "    </tr>\n",
       "    <tr>\n",
       "      <th>2</th>\n",
       "      <td>18</td>\n",
       "      <td>0</td>\n",
       "      <td>33</td>\n",
       "      <td>12</td>\n",
       "      <td>0</td>\n",
       "      <td>0</td>\n",
       "      <td>0</td>\n",
       "      <td>3</td>\n",
       "      <td>0</td>\n",
       "    </tr>\n",
       "    <tr>\n",
       "      <th>3</th>\n",
       "      <td>6</td>\n",
       "      <td>3</td>\n",
       "      <td>41</td>\n",
       "      <td>15</td>\n",
       "      <td>0</td>\n",
       "      <td>6</td>\n",
       "      <td>3</td>\n",
       "      <td>0</td>\n",
       "      <td>3</td>\n",
       "    </tr>\n",
       "    <tr>\n",
       "      <th>4</th>\n",
       "      <td>21</td>\n",
       "      <td>21</td>\n",
       "      <td>30</td>\n",
       "      <td>15</td>\n",
       "      <td>9</td>\n",
       "      <td>3</td>\n",
       "      <td>9</td>\n",
       "      <td>3</td>\n",
       "      <td>0</td>\n",
       "    </tr>\n",
       "    <tr>\n",
       "      <th>5</th>\n",
       "      <td>21</td>\n",
       "      <td>7</td>\n",
       "      <td>32</td>\n",
       "      <td>11</td>\n",
       "      <td>4</td>\n",
       "      <td>14</td>\n",
       "      <td>4</td>\n",
       "      <td>4</td>\n",
       "      <td>0</td>\n",
       "    </tr>\n",
       "    <tr>\n",
       "      <th>6</th>\n",
       "      <td>25</td>\n",
       "      <td>12</td>\n",
       "      <td>25</td>\n",
       "      <td>0</td>\n",
       "      <td>0</td>\n",
       "      <td>4</td>\n",
       "      <td>4</td>\n",
       "      <td>4</td>\n",
       "      <td>0</td>\n",
       "    </tr>\n",
       "  </tbody>\n",
       "</table>\n",
       "</div>"
      ],
      "text/plain": [
       "   Duque  Vargas  Petro  Fajardo  Lopez  MLR  HDLC  Ordonez  Pinzon\n",
       "0     32       5     16        0      0    5     0        0       0\n",
       "1     13      17     20       13      0    0     3        3       0\n",
       "2     18       0     33       12      0    0     0        3       0\n",
       "3      6       3     41       15      0    6     3        0       3\n",
       "4     21      21     30       15      9    3     9        3       0\n",
       "5     21       7     32       11      4   14     4        4       0\n",
       "6     25      12     25        0      0    4     4        4       0"
      ]
     },
     "execution_count": 44,
     "metadata": {},
     "output_type": "execute_result"
    }
   ],
   "source": [
    "semana1"
   ]
  },
  {
   "cell_type": "code",
   "execution_count": 28,
   "metadata": {},
   "outputs": [],
   "source": [
    "semana4 = data[21:28]"
   ]
  },
  {
   "cell_type": "code",
   "execution_count": 47,
   "metadata": {},
   "outputs": [],
   "source": [
    "semana2 = data[7:14]"
   ]
  },
  {
   "cell_type": "code",
   "execution_count": 48,
   "metadata": {},
   "outputs": [
    {
     "data": {
      "text/html": [
       "<div>\n",
       "<table border=\"1\" class=\"dataframe\">\n",
       "  <thead>\n",
       "    <tr style=\"text-align: right;\">\n",
       "      <th></th>\n",
       "      <th>Duque</th>\n",
       "      <th>Vargas</th>\n",
       "      <th>Petro</th>\n",
       "      <th>Fajardo</th>\n",
       "      <th>Lopez</th>\n",
       "      <th>MLR</th>\n",
       "      <th>HDLC</th>\n",
       "      <th>Ordonez</th>\n",
       "      <th>Pinzon</th>\n",
       "    </tr>\n",
       "  </thead>\n",
       "  <tbody>\n",
       "    <tr>\n",
       "      <th>7</th>\n",
       "      <td>27</td>\n",
       "      <td>0</td>\n",
       "      <td>23</td>\n",
       "      <td>4</td>\n",
       "      <td>4</td>\n",
       "      <td>0</td>\n",
       "      <td>8</td>\n",
       "      <td>0</td>\n",
       "      <td>0</td>\n",
       "    </tr>\n",
       "    <tr>\n",
       "      <th>8</th>\n",
       "      <td>19</td>\n",
       "      <td>14</td>\n",
       "      <td>19</td>\n",
       "      <td>17</td>\n",
       "      <td>3</td>\n",
       "      <td>3</td>\n",
       "      <td>3</td>\n",
       "      <td>3</td>\n",
       "      <td>0</td>\n",
       "    </tr>\n",
       "    <tr>\n",
       "      <th>9</th>\n",
       "      <td>18</td>\n",
       "      <td>16</td>\n",
       "      <td>37</td>\n",
       "      <td>11</td>\n",
       "      <td>8</td>\n",
       "      <td>5</td>\n",
       "      <td>5</td>\n",
       "      <td>3</td>\n",
       "      <td>5</td>\n",
       "    </tr>\n",
       "    <tr>\n",
       "      <th>10</th>\n",
       "      <td>19</td>\n",
       "      <td>16</td>\n",
       "      <td>35</td>\n",
       "      <td>32</td>\n",
       "      <td>3</td>\n",
       "      <td>0</td>\n",
       "      <td>8</td>\n",
       "      <td>8</td>\n",
       "      <td>5</td>\n",
       "    </tr>\n",
       "    <tr>\n",
       "      <th>11</th>\n",
       "      <td>8</td>\n",
       "      <td>8</td>\n",
       "      <td>22</td>\n",
       "      <td>19</td>\n",
       "      <td>19</td>\n",
       "      <td>8</td>\n",
       "      <td>5</td>\n",
       "      <td>8</td>\n",
       "      <td>0</td>\n",
       "    </tr>\n",
       "    <tr>\n",
       "      <th>12</th>\n",
       "      <td>3</td>\n",
       "      <td>19</td>\n",
       "      <td>36</td>\n",
       "      <td>26</td>\n",
       "      <td>0</td>\n",
       "      <td>6</td>\n",
       "      <td>3</td>\n",
       "      <td>0</td>\n",
       "      <td>6</td>\n",
       "    </tr>\n",
       "    <tr>\n",
       "      <th>13</th>\n",
       "      <td>28</td>\n",
       "      <td>14</td>\n",
       "      <td>25</td>\n",
       "      <td>21</td>\n",
       "      <td>7</td>\n",
       "      <td>7</td>\n",
       "      <td>4</td>\n",
       "      <td>7</td>\n",
       "      <td>7</td>\n",
       "    </tr>\n",
       "  </tbody>\n",
       "</table>\n",
       "</div>"
      ],
      "text/plain": [
       "    Duque  Vargas  Petro  Fajardo  Lopez  MLR  HDLC  Ordonez  Pinzon\n",
       "7      27       0     23        4      4    0     8        0       0\n",
       "8      19      14     19       17      3    3     3        3       0\n",
       "9      18      16     37       11      8    5     5        3       5\n",
       "10     19      16     35       32      3    0     8        8       5\n",
       "11      8       8     22       19     19    8     5        8       0\n",
       "12      3      19     36       26      0    6     3        0       6\n",
       "13     28      14     25       21      7    7     4        7       7"
      ]
     },
     "execution_count": 48,
     "metadata": {},
     "output_type": "execute_result"
    }
   ],
   "source": [
    "semana2"
   ]
  },
  {
   "cell_type": "code",
   "execution_count": 46,
   "metadata": {},
   "outputs": [],
   "source": [
    "semana3 = data[14:21]"
   ]
  },
  {
   "cell_type": "code",
   "execution_count": 49,
   "metadata": {},
   "outputs": [
    {
     "data": {
      "text/html": [
       "<div>\n",
       "<table border=\"1\" class=\"dataframe\">\n",
       "  <thead>\n",
       "    <tr style=\"text-align: right;\">\n",
       "      <th></th>\n",
       "      <th>Duque</th>\n",
       "      <th>Vargas</th>\n",
       "      <th>Petro</th>\n",
       "      <th>Fajardo</th>\n",
       "      <th>Lopez</th>\n",
       "      <th>MLR</th>\n",
       "      <th>HDLC</th>\n",
       "      <th>Ordonez</th>\n",
       "      <th>Pinzon</th>\n",
       "    </tr>\n",
       "  </thead>\n",
       "  <tbody>\n",
       "    <tr>\n",
       "      <th>14</th>\n",
       "      <td>33</td>\n",
       "      <td>28</td>\n",
       "      <td>26</td>\n",
       "      <td>21</td>\n",
       "      <td>10</td>\n",
       "      <td>3</td>\n",
       "      <td>8</td>\n",
       "      <td>8</td>\n",
       "      <td>0</td>\n",
       "    </tr>\n",
       "    <tr>\n",
       "      <th>15</th>\n",
       "      <td>27</td>\n",
       "      <td>27</td>\n",
       "      <td>27</td>\n",
       "      <td>10</td>\n",
       "      <td>0</td>\n",
       "      <td>7</td>\n",
       "      <td>5</td>\n",
       "      <td>7</td>\n",
       "      <td>2</td>\n",
       "    </tr>\n",
       "    <tr>\n",
       "      <th>16</th>\n",
       "      <td>32</td>\n",
       "      <td>30</td>\n",
       "      <td>35</td>\n",
       "      <td>12</td>\n",
       "      <td>10</td>\n",
       "      <td>25</td>\n",
       "      <td>5</td>\n",
       "      <td>5</td>\n",
       "      <td>2</td>\n",
       "    </tr>\n",
       "    <tr>\n",
       "      <th>17</th>\n",
       "      <td>13</td>\n",
       "      <td>15</td>\n",
       "      <td>35</td>\n",
       "      <td>15</td>\n",
       "      <td>7</td>\n",
       "      <td>10</td>\n",
       "      <td>5</td>\n",
       "      <td>10</td>\n",
       "      <td>2</td>\n",
       "    </tr>\n",
       "    <tr>\n",
       "      <th>18</th>\n",
       "      <td>8</td>\n",
       "      <td>26</td>\n",
       "      <td>57</td>\n",
       "      <td>23</td>\n",
       "      <td>16</td>\n",
       "      <td>18</td>\n",
       "      <td>5</td>\n",
       "      <td>8</td>\n",
       "      <td>0</td>\n",
       "    </tr>\n",
       "    <tr>\n",
       "      <th>19</th>\n",
       "      <td>16</td>\n",
       "      <td>29</td>\n",
       "      <td>38</td>\n",
       "      <td>19</td>\n",
       "      <td>6</td>\n",
       "      <td>25</td>\n",
       "      <td>19</td>\n",
       "      <td>6</td>\n",
       "      <td>0</td>\n",
       "    </tr>\n",
       "    <tr>\n",
       "      <th>20</th>\n",
       "      <td>35</td>\n",
       "      <td>24</td>\n",
       "      <td>52</td>\n",
       "      <td>24</td>\n",
       "      <td>87</td>\n",
       "      <td>28</td>\n",
       "      <td>14</td>\n",
       "      <td>3</td>\n",
       "      <td>3</td>\n",
       "    </tr>\n",
       "  </tbody>\n",
       "</table>\n",
       "</div>"
      ],
      "text/plain": [
       "    Duque  Vargas  Petro  Fajardo  Lopez  MLR  HDLC  Ordonez  Pinzon\n",
       "14     33      28     26       21     10    3     8        8       0\n",
       "15     27      27     27       10      0    7     5        7       2\n",
       "16     32      30     35       12     10   25     5        5       2\n",
       "17     13      15     35       15      7   10     5       10       2\n",
       "18      8      26     57       23     16   18     5        8       0\n",
       "19     16      29     38       19      6   25    19        6       0\n",
       "20     35      24     52       24     87   28    14        3       3"
      ]
     },
     "execution_count": 49,
     "metadata": {},
     "output_type": "execute_result"
    }
   ],
   "source": [
    "semana3"
   ]
  },
  {
   "cell_type": "code",
   "execution_count": 29,
   "metadata": {},
   "outputs": [
    {
     "data": {
      "text/html": [
       "<div>\n",
       "<table border=\"1\" class=\"dataframe\">\n",
       "  <thead>\n",
       "    <tr style=\"text-align: right;\">\n",
       "      <th></th>\n",
       "      <th>Duque</th>\n",
       "      <th>Vargas</th>\n",
       "      <th>Petro</th>\n",
       "      <th>Fajardo</th>\n",
       "      <th>Lopez</th>\n",
       "      <th>MLR</th>\n",
       "      <th>HDLC</th>\n",
       "      <th>Ordonez</th>\n",
       "      <th>Pinzon</th>\n",
       "    </tr>\n",
       "  </thead>\n",
       "  <tbody>\n",
       "    <tr>\n",
       "      <th>21</th>\n",
       "      <td>18</td>\n",
       "      <td>23</td>\n",
       "      <td>43</td>\n",
       "      <td>15</td>\n",
       "      <td>38</td>\n",
       "      <td>23</td>\n",
       "      <td>5</td>\n",
       "      <td>15</td>\n",
       "      <td>0</td>\n",
       "    </tr>\n",
       "    <tr>\n",
       "      <th>22</th>\n",
       "      <td>36</td>\n",
       "      <td>31</td>\n",
       "      <td>58</td>\n",
       "      <td>31</td>\n",
       "      <td>17</td>\n",
       "      <td>24</td>\n",
       "      <td>10</td>\n",
       "      <td>15</td>\n",
       "      <td>2</td>\n",
       "    </tr>\n",
       "    <tr>\n",
       "      <th>23</th>\n",
       "      <td>39</td>\n",
       "      <td>29</td>\n",
       "      <td>31</td>\n",
       "      <td>41</td>\n",
       "      <td>14</td>\n",
       "      <td>10</td>\n",
       "      <td>14</td>\n",
       "      <td>5</td>\n",
       "      <td>7</td>\n",
       "    </tr>\n",
       "    <tr>\n",
       "      <th>24</th>\n",
       "      <td>38</td>\n",
       "      <td>21</td>\n",
       "      <td>60</td>\n",
       "      <td>41</td>\n",
       "      <td>5</td>\n",
       "      <td>19</td>\n",
       "      <td>17</td>\n",
       "      <td>7</td>\n",
       "      <td>0</td>\n",
       "    </tr>\n",
       "    <tr>\n",
       "      <th>25</th>\n",
       "      <td>38</td>\n",
       "      <td>25</td>\n",
       "      <td>60</td>\n",
       "      <td>25</td>\n",
       "      <td>13</td>\n",
       "      <td>5</td>\n",
       "      <td>0</td>\n",
       "      <td>5</td>\n",
       "      <td>0</td>\n",
       "    </tr>\n",
       "    <tr>\n",
       "      <th>26</th>\n",
       "      <td>64</td>\n",
       "      <td>33</td>\n",
       "      <td>100</td>\n",
       "      <td>24</td>\n",
       "      <td>12</td>\n",
       "      <td>18</td>\n",
       "      <td>9</td>\n",
       "      <td>6</td>\n",
       "      <td>3</td>\n",
       "    </tr>\n",
       "    <tr>\n",
       "      <th>27</th>\n",
       "      <td>29</td>\n",
       "      <td>36</td>\n",
       "      <td>88</td>\n",
       "      <td>29</td>\n",
       "      <td>16</td>\n",
       "      <td>10</td>\n",
       "      <td>3</td>\n",
       "      <td>3</td>\n",
       "      <td>7</td>\n",
       "    </tr>\n",
       "  </tbody>\n",
       "</table>\n",
       "</div>"
      ],
      "text/plain": [
       "    Duque  Vargas  Petro  Fajardo  Lopez  MLR  HDLC  Ordonez  Pinzon\n",
       "21     18      23     43       15     38   23     5       15       0\n",
       "22     36      31     58       31     17   24    10       15       2\n",
       "23     39      29     31       41     14   10    14        5       7\n",
       "24     38      21     60       41      5   19    17        7       0\n",
       "25     38      25     60       25     13    5     0        5       0\n",
       "26     64      33    100       24     12   18     9        6       3\n",
       "27     29      36     88       29     16   10     3        3       7"
      ]
     },
     "execution_count": 29,
     "metadata": {},
     "output_type": "execute_result"
    }
   ],
   "source": [
    "semana4"
   ]
  },
  {
   "cell_type": "code",
   "execution_count": 50,
   "metadata": {},
   "outputs": [
    {
     "data": {
      "text/html": [
       "<div>\n",
       "<table border=\"1\" class=\"dataframe\">\n",
       "  <thead>\n",
       "    <tr style=\"text-align: right;\">\n",
       "      <th></th>\n",
       "      <th>Duque</th>\n",
       "      <th>Vargas</th>\n",
       "      <th>Petro</th>\n",
       "      <th>Fajardo</th>\n",
       "      <th>Lopez</th>\n",
       "      <th>MLR</th>\n",
       "      <th>HDLC</th>\n",
       "      <th>Ordonez</th>\n",
       "      <th>Pinzon</th>\n",
       "    </tr>\n",
       "  </thead>\n",
       "  <tbody>\n",
       "    <tr>\n",
       "      <th>count</th>\n",
       "      <td>7.000000</td>\n",
       "      <td>7.000000</td>\n",
       "      <td>7.000000</td>\n",
       "      <td>7.000000</td>\n",
       "      <td>7.000000</td>\n",
       "      <td>7.000000</td>\n",
       "      <td>7.000000</td>\n",
       "      <td>7.000000</td>\n",
       "      <td>7.000000</td>\n",
       "    </tr>\n",
       "    <tr>\n",
       "      <th>mean</th>\n",
       "      <td>19.428571</td>\n",
       "      <td>9.285714</td>\n",
       "      <td>28.142857</td>\n",
       "      <td>9.428571</td>\n",
       "      <td>1.857143</td>\n",
       "      <td>4.571429</td>\n",
       "      <td>3.285714</td>\n",
       "      <td>2.428571</td>\n",
       "      <td>0.428571</td>\n",
       "    </tr>\n",
       "    <tr>\n",
       "      <th>std</th>\n",
       "      <td>8.343803</td>\n",
       "      <td>7.674944</td>\n",
       "      <td>8.474050</td>\n",
       "      <td>6.604472</td>\n",
       "      <td>3.484660</td>\n",
       "      <td>4.755949</td>\n",
       "      <td>3.039424</td>\n",
       "      <td>1.718249</td>\n",
       "      <td>1.133893</td>\n",
       "    </tr>\n",
       "    <tr>\n",
       "      <th>min</th>\n",
       "      <td>6.000000</td>\n",
       "      <td>0.000000</td>\n",
       "      <td>16.000000</td>\n",
       "      <td>0.000000</td>\n",
       "      <td>0.000000</td>\n",
       "      <td>0.000000</td>\n",
       "      <td>0.000000</td>\n",
       "      <td>0.000000</td>\n",
       "      <td>0.000000</td>\n",
       "    </tr>\n",
       "    <tr>\n",
       "      <th>25%</th>\n",
       "      <td>15.500000</td>\n",
       "      <td>4.000000</td>\n",
       "      <td>22.500000</td>\n",
       "      <td>5.500000</td>\n",
       "      <td>0.000000</td>\n",
       "      <td>1.500000</td>\n",
       "      <td>1.500000</td>\n",
       "      <td>1.500000</td>\n",
       "      <td>0.000000</td>\n",
       "    </tr>\n",
       "    <tr>\n",
       "      <th>50%</th>\n",
       "      <td>21.000000</td>\n",
       "      <td>7.000000</td>\n",
       "      <td>30.000000</td>\n",
       "      <td>12.000000</td>\n",
       "      <td>0.000000</td>\n",
       "      <td>4.000000</td>\n",
       "      <td>3.000000</td>\n",
       "      <td>3.000000</td>\n",
       "      <td>0.000000</td>\n",
       "    </tr>\n",
       "    <tr>\n",
       "      <th>75%</th>\n",
       "      <td>23.000000</td>\n",
       "      <td>14.500000</td>\n",
       "      <td>32.500000</td>\n",
       "      <td>14.000000</td>\n",
       "      <td>2.000000</td>\n",
       "      <td>5.500000</td>\n",
       "      <td>4.000000</td>\n",
       "      <td>3.500000</td>\n",
       "      <td>0.000000</td>\n",
       "    </tr>\n",
       "    <tr>\n",
       "      <th>max</th>\n",
       "      <td>32.000000</td>\n",
       "      <td>21.000000</td>\n",
       "      <td>41.000000</td>\n",
       "      <td>15.000000</td>\n",
       "      <td>9.000000</td>\n",
       "      <td>14.000000</td>\n",
       "      <td>9.000000</td>\n",
       "      <td>4.000000</td>\n",
       "      <td>3.000000</td>\n",
       "    </tr>\n",
       "  </tbody>\n",
       "</table>\n",
       "</div>"
      ],
      "text/plain": [
       "           Duque     Vargas      Petro    Fajardo     Lopez        MLR  \\\n",
       "count   7.000000   7.000000   7.000000   7.000000  7.000000   7.000000   \n",
       "mean   19.428571   9.285714  28.142857   9.428571  1.857143   4.571429   \n",
       "std     8.343803   7.674944   8.474050   6.604472  3.484660   4.755949   \n",
       "min     6.000000   0.000000  16.000000   0.000000  0.000000   0.000000   \n",
       "25%    15.500000   4.000000  22.500000   5.500000  0.000000   1.500000   \n",
       "50%    21.000000   7.000000  30.000000  12.000000  0.000000   4.000000   \n",
       "75%    23.000000  14.500000  32.500000  14.000000  2.000000   5.500000   \n",
       "max    32.000000  21.000000  41.000000  15.000000  9.000000  14.000000   \n",
       "\n",
       "           HDLC   Ordonez    Pinzon  \n",
       "count  7.000000  7.000000  7.000000  \n",
       "mean   3.285714  2.428571  0.428571  \n",
       "std    3.039424  1.718249  1.133893  \n",
       "min    0.000000  0.000000  0.000000  \n",
       "25%    1.500000  1.500000  0.000000  \n",
       "50%    3.000000  3.000000  0.000000  \n",
       "75%    4.000000  3.500000  0.000000  \n",
       "max    9.000000  4.000000  3.000000  "
      ]
     },
     "execution_count": 50,
     "metadata": {},
     "output_type": "execute_result"
    }
   ],
   "source": [
    "semana1.describe()"
   ]
  },
  {
   "cell_type": "code",
   "execution_count": 51,
   "metadata": {},
   "outputs": [
    {
     "data": {
      "text/html": [
       "<div>\n",
       "<table border=\"1\" class=\"dataframe\">\n",
       "  <thead>\n",
       "    <tr style=\"text-align: right;\">\n",
       "      <th></th>\n",
       "      <th>Duque</th>\n",
       "      <th>Vargas</th>\n",
       "      <th>Petro</th>\n",
       "      <th>Fajardo</th>\n",
       "      <th>Lopez</th>\n",
       "      <th>MLR</th>\n",
       "      <th>HDLC</th>\n",
       "      <th>Ordonez</th>\n",
       "      <th>Pinzon</th>\n",
       "    </tr>\n",
       "  </thead>\n",
       "  <tbody>\n",
       "    <tr>\n",
       "      <th>count</th>\n",
       "      <td>7.000000</td>\n",
       "      <td>7.000000</td>\n",
       "      <td>7.000000</td>\n",
       "      <td>7.000000</td>\n",
       "      <td>7.000000</td>\n",
       "      <td>7.000000</td>\n",
       "      <td>7.000000</td>\n",
       "      <td>7.000000</td>\n",
       "      <td>7.000000</td>\n",
       "    </tr>\n",
       "    <tr>\n",
       "      <th>mean</th>\n",
       "      <td>37.428571</td>\n",
       "      <td>28.285714</td>\n",
       "      <td>62.857143</td>\n",
       "      <td>29.428571</td>\n",
       "      <td>16.428571</td>\n",
       "      <td>15.571429</td>\n",
       "      <td>8.285714</td>\n",
       "      <td>8.000000</td>\n",
       "      <td>2.714286</td>\n",
       "    </tr>\n",
       "    <tr>\n",
       "      <th>std</th>\n",
       "      <td>13.902723</td>\n",
       "      <td>5.498918</td>\n",
       "      <td>24.016859</td>\n",
       "      <td>9.378293</td>\n",
       "      <td>10.277113</td>\n",
       "      <td>7.276839</td>\n",
       "      <td>6.047432</td>\n",
       "      <td>4.932883</td>\n",
       "      <td>3.147183</td>\n",
       "    </tr>\n",
       "    <tr>\n",
       "      <th>min</th>\n",
       "      <td>18.000000</td>\n",
       "      <td>21.000000</td>\n",
       "      <td>31.000000</td>\n",
       "      <td>15.000000</td>\n",
       "      <td>5.000000</td>\n",
       "      <td>5.000000</td>\n",
       "      <td>0.000000</td>\n",
       "      <td>3.000000</td>\n",
       "      <td>0.000000</td>\n",
       "    </tr>\n",
       "    <tr>\n",
       "      <th>25%</th>\n",
       "      <td>32.500000</td>\n",
       "      <td>24.000000</td>\n",
       "      <td>50.500000</td>\n",
       "      <td>24.500000</td>\n",
       "      <td>12.500000</td>\n",
       "      <td>10.000000</td>\n",
       "      <td>4.000000</td>\n",
       "      <td>5.000000</td>\n",
       "      <td>0.000000</td>\n",
       "    </tr>\n",
       "    <tr>\n",
       "      <th>50%</th>\n",
       "      <td>38.000000</td>\n",
       "      <td>29.000000</td>\n",
       "      <td>60.000000</td>\n",
       "      <td>29.000000</td>\n",
       "      <td>14.000000</td>\n",
       "      <td>18.000000</td>\n",
       "      <td>9.000000</td>\n",
       "      <td>6.000000</td>\n",
       "      <td>2.000000</td>\n",
       "    </tr>\n",
       "    <tr>\n",
       "      <th>75%</th>\n",
       "      <td>38.500000</td>\n",
       "      <td>32.000000</td>\n",
       "      <td>74.000000</td>\n",
       "      <td>36.000000</td>\n",
       "      <td>16.500000</td>\n",
       "      <td>21.000000</td>\n",
       "      <td>12.000000</td>\n",
       "      <td>11.000000</td>\n",
       "      <td>5.000000</td>\n",
       "    </tr>\n",
       "    <tr>\n",
       "      <th>max</th>\n",
       "      <td>64.000000</td>\n",
       "      <td>36.000000</td>\n",
       "      <td>100.000000</td>\n",
       "      <td>41.000000</td>\n",
       "      <td>38.000000</td>\n",
       "      <td>24.000000</td>\n",
       "      <td>17.000000</td>\n",
       "      <td>15.000000</td>\n",
       "      <td>7.000000</td>\n",
       "    </tr>\n",
       "  </tbody>\n",
       "</table>\n",
       "</div>"
      ],
      "text/plain": [
       "           Duque     Vargas       Petro    Fajardo      Lopez        MLR  \\\n",
       "count   7.000000   7.000000    7.000000   7.000000   7.000000   7.000000   \n",
       "mean   37.428571  28.285714   62.857143  29.428571  16.428571  15.571429   \n",
       "std    13.902723   5.498918   24.016859   9.378293  10.277113   7.276839   \n",
       "min    18.000000  21.000000   31.000000  15.000000   5.000000   5.000000   \n",
       "25%    32.500000  24.000000   50.500000  24.500000  12.500000  10.000000   \n",
       "50%    38.000000  29.000000   60.000000  29.000000  14.000000  18.000000   \n",
       "75%    38.500000  32.000000   74.000000  36.000000  16.500000  21.000000   \n",
       "max    64.000000  36.000000  100.000000  41.000000  38.000000  24.000000   \n",
       "\n",
       "            HDLC    Ordonez    Pinzon  \n",
       "count   7.000000   7.000000  7.000000  \n",
       "mean    8.285714   8.000000  2.714286  \n",
       "std     6.047432   4.932883  3.147183  \n",
       "min     0.000000   3.000000  0.000000  \n",
       "25%     4.000000   5.000000  0.000000  \n",
       "50%     9.000000   6.000000  2.000000  \n",
       "75%    12.000000  11.000000  5.000000  \n",
       "max    17.000000  15.000000  7.000000  "
      ]
     },
     "execution_count": 51,
     "metadata": {},
     "output_type": "execute_result"
    }
   ],
   "source": [
    "semana4.describe()"
   ]
  },
  {
   "cell_type": "code",
   "execution_count": 52,
   "metadata": {},
   "outputs": [
    {
     "data": {
      "text/plain": [
       "Duque      19.428571\n",
       "Vargas      9.285714\n",
       "Petro      28.142857\n",
       "Fajardo     9.428571\n",
       "Lopez       1.857143\n",
       "MLR         4.571429\n",
       "HDLC        3.285714\n",
       "Ordonez     2.428571\n",
       "Pinzon      0.428571\n",
       "dtype: float64"
      ]
     },
     "execution_count": 52,
     "metadata": {},
     "output_type": "execute_result"
    }
   ],
   "source": [
    "semana1.mean()"
   ]
  },
  {
   "cell_type": "code",
   "execution_count": 53,
   "metadata": {},
   "outputs": [
    {
     "data": {
      "text/plain": [
       "Duque      17.428571\n",
       "Vargas     12.428571\n",
       "Petro      28.142857\n",
       "Fajardo    18.571429\n",
       "Lopez       6.285714\n",
       "MLR         4.142857\n",
       "HDLC        5.142857\n",
       "Ordonez     4.142857\n",
       "Pinzon      3.285714\n",
       "dtype: float64"
      ]
     },
     "execution_count": 53,
     "metadata": {},
     "output_type": "execute_result"
    }
   ],
   "source": [
    "semana2.mean()"
   ]
  },
  {
   "cell_type": "code",
   "execution_count": 54,
   "metadata": {},
   "outputs": [
    {
     "data": {
      "text/plain": [
       "Duque      23.428571\n",
       "Vargas     25.571429\n",
       "Petro      38.571429\n",
       "Fajardo    17.714286\n",
       "Lopez      19.428571\n",
       "MLR        16.571429\n",
       "HDLC        8.714286\n",
       "Ordonez     6.714286\n",
       "Pinzon      1.285714\n",
       "dtype: float64"
      ]
     },
     "execution_count": 54,
     "metadata": {},
     "output_type": "execute_result"
    }
   ],
   "source": [
    "semana3.mean()"
   ]
  },
  {
   "cell_type": "code",
   "execution_count": 55,
   "metadata": {},
   "outputs": [
    {
     "data": {
      "text/plain": [
       "Duque      37.428571\n",
       "Vargas     28.285714\n",
       "Petro      62.857143\n",
       "Fajardo    29.428571\n",
       "Lopez      16.428571\n",
       "MLR        15.571429\n",
       "HDLC        8.285714\n",
       "Ordonez     8.000000\n",
       "Pinzon      2.714286\n",
       "dtype: float64"
      ]
     },
     "execution_count": 55,
     "metadata": {},
     "output_type": "execute_result"
    }
   ],
   "source": [
    "semana4.mean()"
   ]
  },
  {
   "cell_type": "code",
   "execution_count": 64,
   "metadata": {},
   "outputs": [],
   "source": [
    "Cambio = (semana4.mean() / semana1.mean()) * 100"
   ]
  },
  {
   "cell_type": "code",
   "execution_count": 65,
   "metadata": {},
   "outputs": [
    {
     "data": {
      "text/plain": [
       "Duque      192.647059\n",
       "Vargas     304.615385\n",
       "Petro      223.350254\n",
       "Fajardo    312.121212\n",
       "Lopez      884.615385\n",
       "MLR        340.625000\n",
       "HDLC       252.173913\n",
       "Ordonez    329.411765\n",
       "Pinzon     633.333333\n",
       "dtype: float64"
      ]
     },
     "execution_count": 65,
     "metadata": {},
     "output_type": "execute_result"
    }
   ],
   "source": [
    "Cambio"
   ]
  },
  {
   "cell_type": "code",
   "execution_count": 78,
   "metadata": {},
   "outputs": [],
   "source": [
    "labels = [\"Duque\", \"Vargas\", \"Petro\", \"Fajardo\",\"Lopez\",\"MLR\",\"HDLC\",\"Ordonez\",\"Pinzon\"]"
   ]
  },
  {
   "cell_type": "code",
   "execution_count": 79,
   "metadata": {},
   "outputs": [
    {
     "data": {
      "text/plain": [
       "<Container object of 9 artists>"
      ]
     },
     "execution_count": 79,
     "metadata": {},
     "output_type": "execute_result"
    },
    {
     "data": {
      "image/png": "[encoded data removed]",
      "text/plain": [
       "<matplotlib.figure.Figure at 0x7fc873347a50>"
      ]
     },
     "metadata": {},
     "output_type": "display_data"
    }
   ],
   "source": [
    "plt.figure(figsize=(16,5))\n",
    "N = len(data.T)\n",
    "x = range(N)\n",
    "\n",
    "plt.xticks(x, labels)\n",
    "plt.xticks(rotation=90)\n",
    "pl.bar(x, (semana1.mean(axis=0)), align=\"center\", label = \"semana 1\", width=0.4, alpha = 0.7)\n",
    "pl.bar(x, (semana4.mean(axis=0)), align=\"edge\", label = \"semana 4\", width=0.4, alpha = 0.7)"
   ]
  },
  {
   "cell_type": "code",
   "execution_count": 81,
   "metadata": {},
   "outputs": [
    {
     "data": {
      "text/plain": [
       "<Container object of 9 artists>"
      ]
     },
     "execution_count": 81,
     "metadata": {},
     "output_type": "execute_result"
    },
    {
     "data": {
      "image/png": "[encoded data removed]",
      "text/plain": [
       "<matplotlib.figure.Figure at 0x7fc872f16ed0>"
      ]
     },
     "metadata": {},
     "output_type": "display_data"
    }
   ],
   "source": [
    "\n",
    "\n",
    "plt.figure(figsize=(16,5))\n",
    "\n",
    "plt.xticks(x, labels)\n",
    "plt.xticks(rotation=90)\n",
    "pl.bar(x, Cambio)"
   ]
  },
  {
   "cell_type": "code",
   "execution_count": null,
   "metadata": {},
   "outputs": [],
   "source": []
  }
 ],
 "metadata": {
  "kernelspec": {
   "display_name": "PUI2016_Python2",
   "language": "python",
   "name": "pui2016_python2"
  },
  "language_info": {
   "codemirror_mode": {
    "name": "ipython",
    "version": 2
   },
   "file_extension": ".py",
   "mimetype": "text/x-python",
   "name": "python",
   "nbconvert_exporter": "python",
   "pygments_lexer": "ipython2",
   "version": "2.7.12"
  }
 },
 "nbformat": 4,
 "nbformat_minor": 2
}
